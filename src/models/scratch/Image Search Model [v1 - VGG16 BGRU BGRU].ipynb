{
 "cells": [
  {
   "cell_type": "code",
   "execution_count": 1,
   "metadata": {},
   "outputs": [],
   "source": [
    "%matplotlib inline"
   ]
  },
  {
   "cell_type": "code",
   "execution_count": 2,
   "metadata": {},
   "outputs": [
    {
     "name": "stderr",
     "output_type": "stream",
     "text": [
      "Using TensorFlow backend.\n"
     ]
    },
    {
     "name": "stdout",
     "output_type": "stream",
     "text": [
      "1.8.0\n"
     ]
    }
   ],
   "source": [
    "import warnings\n",
    "warnings.filterwarnings(\"ignore\")\n",
    "\n",
    "import os\n",
    "os.environ[\"CUDA_VISIBLE_DEVICES\"]=\"0\"\n",
    "\n",
    "from keras.utils import multi_gpu_model\n",
    "\n",
    "import tensorflow as tf\n",
    "from keras.backend.tensorflow_backend import set_session\n",
    "config = tf.ConfigProto()\n",
    "# config.gpu_options.per_process_gpu_memory_fraction = 0.9\n",
    "config.gpu_options.allow_growth = True\n",
    "\n",
    "set_session(tf.Session(config=config))\n",
    "print tf.__version__"
   ]
  },
  {
   "cell_type": "code",
   "execution_count": 3,
   "metadata": {},
   "outputs": [
    {
     "name": "stdout",
     "output_type": "stream",
     "text": [
      "2.1.6\n"
     ]
    }
   ],
   "source": [
    "from PIL import Image\n",
    "import pandas as pd\n",
    "import numpy as np\n",
    "import keras\n",
    "import re\n",
    "\n",
    "print keras.__version__"
   ]
  },
  {
   "cell_type": "code",
   "execution_count": 4,
   "metadata": {},
   "outputs": [],
   "source": [
    "from keras.preprocessing.text import Tokenizer\n",
    "from keras.preprocessing.sequence import pad_sequences\n",
    "from keras.preprocessing.image import ImageDataGenerator"
   ]
  },
  {
   "cell_type": "markdown",
   "metadata": {},
   "source": [
    "Start time: 1 pm"
   ]
  },
  {
   "cell_type": "code",
   "execution_count": 5,
   "metadata": {},
   "outputs": [],
   "source": [
    "full_data_df = pd.read_hdf('../../data/full_data.hdf', 'full_data_df')"
   ]
  },
  {
   "cell_type": "code",
   "execution_count": 6,
   "metadata": {},
   "outputs": [],
   "source": [
    "def process_raw_text(x, tokenize=True, filter_symbols=True):\n",
    "    x = x.lower()\n",
    "    x = x.replace(',', ' , ')\n",
    "    x = x.replace('?', ' ? ')\n",
    "    x = x.replace(\"'s \", \" 's \")\n",
    "    x = x.replace(\". \", \" . \")\n",
    "    x = re.sub('\\.{2,}', '', x)\n",
    "\n",
    "    if filter_symbols:\n",
    "        x = re.sub(\"[^a-z0-9\\'\\?\\.]+\", ' ', x)\n",
    "    \n",
    "    if tokenize:\n",
    "        x = x.split(' ')\n",
    "    \n",
    "    return x\n",
    "\n",
    "\n",
    "def jaccard_similarity(row):\n",
    "    intersection = len(set(row['title_tokens']).intersection(row['caption_tokens']))\n",
    "    union = len(set(row['title_tokens']).union(row['caption_tokens']))\n",
    "    \n",
    "    similarity = 1.0 * intersection / union\n",
    "    \n",
    "    return similarity\n",
    "\n",
    "\n",
    "def get_effective_sample_text(row, sim_thresh=0.5):\n",
    "    token_set = []\n",
    "    title_tokens = row['title_tokens']\n",
    "    caption_tokens = row['caption_tokens']\n",
    "    \n",
    "    if row['jaccard_sim'] > sim_thresh:\n",
    "        if len(title_tokens) > len(caption_tokens):\n",
    "            token_set.extend(title_tokens)\n",
    "        else:\n",
    "            token_set.extend(caption_tokens)\n",
    "    else:\n",
    "        token_set.extend(title_tokens)\n",
    "        token_set.extend(caption_tokens)\n",
    "        \n",
    "    return token_set\n",
    "\n",
    "\n",
    "def get_embedding_index(pre_trained_file, word_index):\n",
    "    # Expected format is space separated.\n",
    "    # First item is the word and succedding items are the elements of the vector\n",
    "    embedding_index = {}\n",
    "    \n",
    "    with open(pre_trained_file) as fl:\n",
    "        for line in fl:\n",
    "            line = line.strip().split()\n",
    "            word = line[0]\n",
    "            vector = line[1:]\n",
    "            if word in word_index:\n",
    "                embedding_index[word] = np.array(vector, dtype=np.float32)\n",
    "                \n",
    "    return embedding_index"
   ]
  },
  {
   "cell_type": "markdown",
   "metadata": {},
   "source": [
    "## Text data processing"
   ]
  },
  {
   "cell_type": "code",
   "execution_count": 7,
   "metadata": {},
   "outputs": [],
   "source": [
    "sample_data = full_data_df[full_data_df.columns.drop(['image_link', 'image_type', 'record_id'])].loc[full_data_df.index]\n",
    "\n",
    "sample_data['title_tokens'] = sample_data['title'].map(process_raw_text)\n",
    "sample_data['caption_tokens'] = sample_data['caption'].map(process_raw_text)\n",
    "\n",
    "sample_data['jaccard_sim'] = sample_data.apply(jaccard_similarity, axis=1)\n",
    "sample_data['tokens'] = sample_data.apply(get_effective_sample_text, axis=1)\n",
    "\n",
    "sample_data = sample_data.drop(['caption', 'title', 'title_tokens', 'caption_tokens', 'jaccard_sim'], axis=1)"
   ]
  },
  {
   "cell_type": "code",
   "execution_count": 8,
   "metadata": {},
   "outputs": [],
   "source": [
    "tokenizer = Tokenizer(num_words=None, filters='', lower=True, split=' ', char_level=False, oov_token=None)\n",
    "tokenizer.fit_on_texts(sample_data['tokens'].map(lambda x: ' '.join(x)))"
   ]
  },
  {
   "cell_type": "code",
   "execution_count": 9,
   "metadata": {},
   "outputs": [
    {
     "data": {
      "text/plain": [
       "<matplotlib.axes._subplots.AxesSubplot at 0x7f26c9b4f610>"
      ]
     },
     "execution_count": 9,
     "metadata": {},
     "output_type": "execute_result"
    },
    {
     "data": {
      "image/png": "[encoded data removed]",
      "text/plain": [
       "<matplotlib.figure.Figure at 0x7f26c9b4fdd0>"
      ]
     },
     "metadata": {},
     "output_type": "display_data"
    }
   ],
   "source": [
    "pd.Series([len(i) for i in tokenizer.texts_to_sequences(\n",
    "    sample_data['tokens'].map(lambda x: ' '.join(x))\n",
    ")]).hist()"
   ]
  },
  {
   "cell_type": "code",
   "execution_count": 10,
   "metadata": {},
   "outputs": [],
   "source": [
    "EMBEDDING_DIM = 300\n",
    "MAXLEN = 30\n",
    "\n",
    "# tokenizer.num_words = "
   ]
  },
  {
   "cell_type": "code",
   "execution_count": 11,
   "metadata": {},
   "outputs": [],
   "source": [
    "sample_data['sequence'] = pad_sequences(\n",
    "    tokenizer.texts_to_sequences(\n",
    "        sample_data['tokens'].map(lambda x: ' '.join(x))\n",
    "    ), maxlen=MAXLEN, padding='post', truncating='post'\n",
    ").tolist()"
   ]
  },
  {
   "cell_type": "code",
   "execution_count": 12,
   "metadata": {},
   "outputs": [
    {
     "name": "stdout",
     "output_type": "stream",
     "text": [
      "CPU times: user 23.9 s, sys: 650 ms, total: 24.5 s\n",
      "Wall time: 24.5 s\n"
     ]
    }
   ],
   "source": [
    "%%time\n",
    "embeddings_index = get_embedding_index(\n",
    "    pre_trained_file='/mnt/Datastore/WORK/pre-trained-models/glove.840B.300d.txt',\n",
    "    word_index=tokenizer.word_index\n",
    ")"
   ]
  },
  {
   "cell_type": "code",
   "execution_count": 13,
   "metadata": {},
   "outputs": [
    {
     "name": "stdout",
     "output_type": "stream",
     "text": [
      "Found 13632 word vectors.\n",
      "CPU times: user 29.6 ms, sys: 12.1 ms, total: 41.8 ms\n",
      "Wall time: 41.2 ms\n"
     ]
    }
   ],
   "source": [
    "%%time\n",
    "# Keras reserves index 0 for masking\n",
    "word_index = tokenizer.word_index\n",
    "\n",
    "print('Found %s word vectors.' % len(embeddings_index))\n",
    "\n",
    "embedding_matrix = np.zeros((len(word_index) + 1, EMBEDDING_DIM))\n",
    "for word, i in word_index.items():\n",
    "    embedding_vector = embeddings_index.get(word)\n",
    "    if embedding_vector is not None:\n",
    "        # words not found in embedding index will be all-zeros.\n",
    "        embedding_matrix[i] = embedding_vector"
   ]
  },
  {
   "cell_type": "markdown",
   "metadata": {},
   "source": [
    "## Image data processing"
   ]
  },
  {
   "cell_type": "code",
   "execution_count": 14,
   "metadata": {},
   "outputs": [],
   "source": [
    "# # np.stack(sample_data.head(32)['image'].map(load_image))\n",
    "\n",
    "# image_datagen = ImageDataGenerator(\n",
    "#     rescale=1./255,\n",
    "#     shear_range=0.2,\n",
    "#     zoom_range=0.2,\n",
    "#     horizontal_flip=True\n",
    "# )\n",
    "\n",
    "# # Exploit image_datagen for dynamic perturbation of the data\n",
    "# image_data = image_datagen.flow(\n",
    "#     np.stack(sample_data.head(32)['image'].map(load_image)),\n",
    "# #     np.stack(positive_df['image'].map(load_image)),\n",
    "#     batch_size=32, shuffle=False\n",
    "# ).next()"
   ]
  },
  {
   "cell_type": "code",
   "execution_count": 15,
   "metadata": {},
   "outputs": [],
   "source": [
    "image_cache = {}"
   ]
  },
  {
   "cell_type": "code",
   "execution_count": 16,
   "metadata": {},
   "outputs": [],
   "source": [
    "image_size = (256, 256, 3)"
   ]
  },
  {
   "cell_type": "code",
   "execution_count": 25,
   "metadata": {},
   "outputs": [],
   "source": [
    "from keras.applications import VGG16\n",
    " \n",
    "conv_base = VGG16(weights='imagenet',\n",
    "                  include_top=False,\n",
    "                  input_shape=image_size)"
   ]
  },
  {
   "cell_type": "code",
   "execution_count": 26,
   "metadata": {},
   "outputs": [],
   "source": [
    "def recast_array_to_image(float_array):\n",
    "    uint_array = (float_array * 255 / np.max(float_array)).astype('uint8')\n",
    "\n",
    "    return Image.fromarray(uint_array)\n",
    "\n",
    "\n",
    "def load_image(path, size=image_size[:-1]):\n",
    "    if path not in image_cache:\n",
    "\n",
    "        im = Image.open(path)\n",
    "        im = im.resize(size)\n",
    "\n",
    "        im = np.asarray(im, dtype=np.float32)\n",
    "\n",
    "        if im.ndim == 2:\n",
    "            im = np.stack([im] * 3, axis=2)\n",
    "            \n",
    "        image_cache[path] = im\n",
    "        \n",
    "    return image_cache[path]\n",
    "\n",
    "\n",
    "def dataset_generator(dataset, batch_size=32, shuffle=True, negative_fold=1):\n",
    "    index = dataset.index.values\n",
    "\n",
    "    image_datagen = ImageDataGenerator(\n",
    "        rescale=1./255,\n",
    "        shear_range=0.2,\n",
    "        zoom_range=0.2,\n",
    "        horizontal_flip=True\n",
    "    )\n",
    "    \n",
    "    full_batch_size = batch_size * (negative_fold + 1)\n",
    "\n",
    "    batch_index = []\n",
    "    while True:\n",
    "        if shuffle:\n",
    "            np.random.shuffle(index)\n",
    "        \n",
    "        for i in index:\n",
    "            if len(batch_index) < batch_size:\n",
    "                batch_index.append(i)\n",
    "\n",
    "            else:\n",
    "                negative_index = np.random.choice(index, size=batch_size * negative_fold, replace=True)\n",
    "                positive_df = dataset.loc[batch_index]\n",
    "\n",
    "                image_data = positive_df['image'].map(load_image)\n",
    "                image_data = np.stack(image_data)\n",
    "\n",
    "                # Exploit image_datagen for dynamic perturbation of the data\n",
    "                image_data = image_datagen.flow(\n",
    "                    image_data,\n",
    "                    batch_size=batch_size, shuffle=False\n",
    "                ).next()\n",
    "                image_data = np.vstack([image_data] * (negative_fold + 1))\n",
    "                \n",
    "                positive_text_data = np.stack(positive_df['sequence'])\n",
    "                negative_text_data = np.stack(dataset.loc[negative_index]['sequence'])\n",
    "                \n",
    "                text_data = np.vstack([positive_text_data, negative_text_data])\n",
    "                \n",
    "                label = np.zeros(full_batch_size)\n",
    "                label[:batch_size] = 1\n",
    "                \n",
    "                ix = np.array(range(full_batch_size))\n",
    "                if shuffle:\n",
    "                    ix = np.random.choice(ix, size=full_batch_size, replace=False)\n",
    "                \n",
    "                batch_index = []\n",
    "                yield [text_data[ix], conv_base.predict(image_data[ix])], label[ix]"
   ]
  },
  {
   "cell_type": "code",
   "execution_count": 39,
   "metadata": {},
   "outputs": [],
   "source": [
    "data_gen = dataset_generator(sample_data, batch_size=32, shuffle=True, negative_fold=3)"
   ]
  },
  {
   "cell_type": "code",
   "execution_count": 30,
   "metadata": {},
   "outputs": [
    {
     "name": "stdout",
     "output_type": "stream",
     "text": [
      "CPU times: user 1.78 s, sys: 682 ms, total: 2.46 s\n",
      "Wall time: 2.45 s\n"
     ]
    }
   ],
   "source": [
    "%%time\n",
    "q = data_gen.next()"
   ]
  },
  {
   "cell_type": "code",
   "execution_count": 29,
   "metadata": {},
   "outputs": [],
   "source": [
    "from keras.layers import Input, GRU, Bidirectional, Dense, Conv2D, MaxPooling2D, GlobalAveragePooling2D, Flatten, Dropout"
   ]
  },
  {
   "cell_type": "code",
   "execution_count": 74,
   "metadata": {},
   "outputs": [
    {
     "data": {
      "text/html": [
       "<div>\n",
       "<style>\n",
       "    .dataframe thead tr:only-child th {\n",
       "        text-align: right;\n",
       "    }\n",
       "\n",
       "    .dataframe thead th {\n",
       "        text-align: left;\n",
       "    }\n",
       "\n",
       "    .dataframe tbody tr th {\n",
       "        vertical-align: top;\n",
       "    }\n",
       "</style>\n",
       "<table border=\"1\" class=\"dataframe\">\n",
       "  <thead>\n",
       "    <tr style=\"text-align: right;\">\n",
       "      <th></th>\n",
       "      <th>image</th>\n",
       "      <th>tokens</th>\n",
       "      <th>sequence</th>\n",
       "    </tr>\n",
       "  </thead>\n",
       "  <tbody>\n",
       "    <tr>\n",
       "      <th>5605</th>\n",
       "      <td>../../data/img/cat/UynY573QfTtKJM:.jpeg</td>\n",
       "      <td>[what, is, a, cat, flehmen, response, ?, catst...</td>\n",
       "      <td>[44, 18, 5, 19, 7840, 2813, 26, 1241, 5, 19, 4...</td>\n",
       "    </tr>\n",
       "    <tr>\n",
       "      <th>2022</th>\n",
       "      <td>../../data/img/cat/R_RzGB4kWjBx-M:.jpeg</td>\n",
       "      <td>[this, cat, is, taking, over, the, internet, w...</td>\n",
       "      <td>[46, 19, 18, 602, 261, 1, 603, 22, 325, 2442, ...</td>\n",
       "    </tr>\n",
       "    <tr>\n",
       "      <th>3037</th>\n",
       "      <td>../../data/img/cat/hMjxy8pUhhc4QM:.jpeg</td>\n",
       "      <td>[cat, wiktionary, ]</td>\n",
       "      <td>[19, 2816, 0, 0, 0, 0, 0, 0, 0, 0, 0, 0, 0, 0,...</td>\n",
       "    </tr>\n",
       "    <tr>\n",
       "      <th>6498</th>\n",
       "      <td>../../data/img/cat/95ZyfykCV3X6nM:.jpeg</td>\n",
       "      <td>[caring, for, cats, in, cold, weather, argos, ...</td>\n",
       "      <td>[1439, 9, 47, 4, 1579, 1009, 2817, 110, 376, 1...</td>\n",
       "    </tr>\n",
       "    <tr>\n",
       "      <th>8212</th>\n",
       "      <td>../../data/img/cat/Vx5sPhwu_EDaTM:.jpeg</td>\n",
       "      <td>[cat, and, kitten, flea, treatment, advice, ho...</td>\n",
       "      <td>[19, 3, 326, 3339, 1903, 727, 35, 6, 125, 4095...</td>\n",
       "    </tr>\n",
       "  </tbody>\n",
       "</table>\n",
       "</div>"
      ],
      "text/plain": [
       "                                        image  \\\n",
       "5605  ../../data/img/cat/UynY573QfTtKJM:.jpeg   \n",
       "2022  ../../data/img/cat/R_RzGB4kWjBx-M:.jpeg   \n",
       "3037  ../../data/img/cat/hMjxy8pUhhc4QM:.jpeg   \n",
       "6498  ../../data/img/cat/95ZyfykCV3X6nM:.jpeg   \n",
       "8212  ../../data/img/cat/Vx5sPhwu_EDaTM:.jpeg   \n",
       "\n",
       "                                                 tokens  \\\n",
       "5605  [what, is, a, cat, flehmen, response, ?, catst...   \n",
       "2022  [this, cat, is, taking, over, the, internet, w...   \n",
       "3037                                [cat, wiktionary, ]   \n",
       "6498  [caring, for, cats, in, cold, weather, argos, ...   \n",
       "8212  [cat, and, kitten, flea, treatment, advice, ho...   \n",
       "\n",
       "                                               sequence  \n",
       "5605  [44, 18, 5, 19, 7840, 2813, 26, 1241, 5, 19, 4...  \n",
       "2022  [46, 19, 18, 602, 261, 1, 603, 22, 325, 2442, ...  \n",
       "3037  [19, 2816, 0, 0, 0, 0, 0, 0, 0, 0, 0, 0, 0, 0,...  \n",
       "6498  [1439, 9, 47, 4, 1579, 1009, 2817, 110, 376, 1...  \n",
       "8212  [19, 3, 326, 3339, 1903, 727, 35, 6, 125, 4095...  "
      ]
     },
     "execution_count": 74,
     "metadata": {},
     "output_type": "execute_result"
    }
   ],
   "source": [
    "sample_data.head()"
   ]
  },
  {
   "cell_type": "code",
   "execution_count": 76,
   "metadata": {},
   "outputs": [
    {
     "data": {
      "text/html": [
       "<div>\n",
       "<style>\n",
       "    .dataframe thead tr:only-child th {\n",
       "        text-align: right;\n",
       "    }\n",
       "\n",
       "    .dataframe thead th {\n",
       "        text-align: left;\n",
       "    }\n",
       "\n",
       "    .dataframe tbody tr th {\n",
       "        vertical-align: top;\n",
       "    }\n",
       "</style>\n",
       "<table border=\"1\" class=\"dataframe\">\n",
       "  <thead>\n",
       "    <tr style=\"text-align: right;\">\n",
       "      <th></th>\n",
       "      <th>image</th>\n",
       "      <th>tokens</th>\n",
       "      <th>sequence</th>\n",
       "    </tr>\n",
       "  </thead>\n",
       "  <tbody>\n",
       "    <tr>\n",
       "      <th>8783</th>\n",
       "      <td>../../data/img/panda/2eiqlFHfk4KwIM:.jpeg</td>\n",
       "      <td>[threats, wwf, ]</td>\n",
       "      <td>[2653, 411, 0, 0, 0, 0, 0, 0, 0, 0, 0, 0, 0, 0...</td>\n",
       "    </tr>\n",
       "    <tr>\n",
       "      <th>4830</th>\n",
       "      <td>../../data/img/python/7vBohn-kfQ6F3M:.png</td>\n",
       "      <td>[let, 's, synchronize, threads, in, python, ha...</td>\n",
       "      <td>[1032, 12, 9498, 9499, 4, 16, 1821, 2030, 921,...</td>\n",
       "    </tr>\n",
       "  </tbody>\n",
       "</table>\n",
       "</div>"
      ],
      "text/plain": [
       "                                          image  \\\n",
       "8783  ../../data/img/panda/2eiqlFHfk4KwIM:.jpeg   \n",
       "4830  ../../data/img/python/7vBohn-kfQ6F3M:.png   \n",
       "\n",
       "                                                 tokens  \\\n",
       "8783                                   [threats, wwf, ]   \n",
       "4830  [let, 's, synchronize, threads, in, python, ha...   \n",
       "\n",
       "                                               sequence  \n",
       "8783  [2653, 411, 0, 0, 0, 0, 0, 0, 0, 0, 0, 0, 0, 0...  \n",
       "4830  [1032, 12, 9498, 9499, 4, 16, 1821, 2030, 921,...  "
      ]
     },
     "execution_count": 76,
     "metadata": {},
     "output_type": "execute_result"
    }
   ],
   "source": [
    "sample_data.iloc[[5605, 2022]]"
   ]
  },
  {
   "cell_type": "code",
   "execution_count": 40,
   "metadata": {},
   "outputs": [],
   "source": [
    "text_model_input = keras.layers.Input(shape=(MAXLEN,))\n",
    "text_embedding = keras.layers.Embedding(\n",
    "    input_dim=len(word_index) + 1, output_dim=EMBEDDING_DIM,\n",
    "    weights=[embedding_matrix],\n",
    "    trainable=False\n",
    ")(text_model_input)\n",
    "\n",
    "text_gru = Bidirectional(GRU(64, return_sequences=True))(text_embedding)\n",
    "text_gru = Bidirectional(GRU(64))(text_gru)\n",
    "text_dense = Dense(300, activation='relu')(text_gru)\n",
    "text_dense = Dropout(0.3)(text_dense)\n",
    "text_model_output = Dense(100, activation='tanh')(text_dense)\n",
    "\n",
    "image_model_input = Input(shape=(8, 8, 512))\n",
    "# image_model_shaped = keras.layers.Reshape((64, 64, 2), input_shape=(4, 4, 512))(image_model_input)\n",
    "\n",
    "image_conv = Conv2D(128, 2)(image_model_input)\n",
    "# image_conv = Conv2D(64, 2)(image_conv)\n",
    "image_pool = MaxPooling2D(pool_size=(2, 2))(image_conv)\n",
    "\n",
    "# image_conv = Conv2D(32, 2)(image_pool)\n",
    "\n",
    "# image_pool = MaxPooling2D(pool_size=(2, 2))(image_conv)\n",
    "image_flatten = Flatten()(image_pool)\n",
    "image_dense = Dense(300, activation='relu')(image_flatten)\n",
    "image_dense = Dropout(0.3)(image_dense)\n",
    "image_model_output = Dense(100, activation='tanh')(image_flatten)\n",
    "\n",
    "target_ouput = keras.layers.merge([text_model_output, image_model_output], mode='cos')\n",
    "target_ouput = keras.layers.Reshape((1,), input_shape=(1, 1))(target_ouput)\n",
    "\n",
    "ImageSearchModel = keras.models.Model(inputs=[text_model_input, image_model_input], outputs=[target_ouput])\n",
    "\n",
    "ImageSearchModel.compile(\n",
    "    optimizer='rmsprop',\n",
    "    loss='binary_crossentropy'\n",
    ")"
   ]
  },
  {
   "cell_type": "code",
   "execution_count": 41,
   "metadata": {},
   "outputs": [],
   "source": [
    "q = data_gen.next()"
   ]
  },
  {
   "cell_type": "code",
   "execution_count": 42,
   "metadata": {},
   "outputs": [],
   "source": [
    "ImageModel = keras.models.Model(inputs=[image_model_input], outputs=[image_model_output])\n",
    "TextModel = keras.models.Model(inputs=[text_model_input], outputs=[text_model_output])"
   ]
  },
  {
   "cell_type": "code",
   "execution_count": 43,
   "metadata": {},
   "outputs": [
    {
     "name": "stdout",
     "output_type": "stream",
     "text": [
      "Epoch 1/1\n",
      "311/311 [==============================] - 313s 1s/step - loss: 0.5336\n",
      "CPU times: user 4min 45s, sys: 1min 10s, total: 5min 56s\n",
      "Wall time: 5min 15s\n"
     ]
    },
    {
     "data": {
      "text/plain": [
       "<keras.callbacks.History at 0x7f26a52d4290>"
      ]
     },
     "execution_count": 43,
     "metadata": {},
     "output_type": "execute_result"
    }
   ],
   "source": [
    "%%time\n",
    "ImageSearchModel.fit_generator(data_gen, steps_per_epoch=full_data_df.shape[0] // 32, epochs=1)"
   ]
  },
  {
   "cell_type": "code",
   "execution_count": 44,
   "metadata": {},
   "outputs": [
    {
     "name": "stdout",
     "output_type": "stream",
     "text": [
      "Epoch 1/10\n",
      "311/311 [==============================] - 311s 1s/step - loss: 0.4405\n",
      "Epoch 2/10\n",
      "311/311 [==============================] - 312s 1s/step - loss: 0.3840\n",
      "Epoch 3/10\n",
      "311/311 [==============================] - 312s 1s/step - loss: 0.3498\n",
      "Epoch 4/10\n",
      "311/311 [==============================] - 313s 1s/step - loss: 0.3401\n",
      "Epoch 5/10\n",
      "311/311 [==============================] - 313s 1s/step - loss: 0.3326\n",
      "Epoch 6/10\n",
      "311/311 [==============================] - 312s 1s/step - loss: 0.3188\n",
      "Epoch 7/10\n",
      "311/311 [==============================] - 312s 1s/step - loss: 0.3113\n",
      "Epoch 8/10\n",
      "311/311 [==============================] - 312s 1s/step - loss: 0.3016\n",
      "Epoch 9/10\n",
      "311/311 [==============================] - 312s 1s/step - loss: 0.2964\n",
      "Epoch 10/10\n",
      "311/311 [==============================] - 312s 1s/step - loss: 0.2951\n",
      "CPU times: user 47min 6s, sys: 11min 34s, total: 58min 41s\n",
      "Wall time: 52min 2s\n"
     ]
    },
    {
     "data": {
      "text/plain": [
       "<keras.callbacks.History at 0x7f26a52d4a90>"
      ]
     },
     "execution_count": 44,
     "metadata": {},
     "output_type": "execute_result"
    }
   ],
   "source": [
    "%%time\n",
    "ImageSearchModel.fit_generator(data_gen, steps_per_epoch=full_data_df.shape[0] // 32, epochs=10)"
   ]
  },
  {
   "cell_type": "code",
   "execution_count": 45,
   "metadata": {},
   "outputs": [
    {
     "name": "stdout",
     "output_type": "stream",
     "text": [
      "Epoch 1/10\n",
      "311/311 [==============================] - 312s 1s/step - loss: 0.2856\n",
      "Epoch 2/10\n",
      "311/311 [==============================] - 312s 1s/step - loss: 0.2792\n",
      "Epoch 3/10\n",
      "311/311 [==============================] - 313s 1s/step - loss: 0.2758\n",
      "Epoch 4/10\n",
      "311/311 [==============================] - 313s 1s/step - loss: 0.2690\n",
      "Epoch 5/10\n",
      "311/311 [==============================] - 312s 1s/step - loss: 0.2665\n",
      "Epoch 6/10\n",
      "311/311 [==============================] - 313s 1s/step - loss: 0.2648\n",
      "Epoch 7/10\n",
      "311/311 [==============================] - 313s 1s/step - loss: 0.2603\n",
      "Epoch 8/10\n",
      "311/311 [==============================] - 314s 1s/step - loss: 0.2557\n",
      "Epoch 9/10\n",
      "311/311 [==============================] - 313s 1s/step - loss: 0.2569\n",
      "Epoch 10/10\n",
      "311/311 [==============================] - 313s 1s/step - loss: 0.2525\n",
      "CPU times: user 47min 7s, sys: 11min 39s, total: 58min 46s\n",
      "Wall time: 52min 8s\n"
     ]
    },
    {
     "data": {
      "text/plain": [
       "<keras.callbacks.History at 0x7f269a57df50>"
      ]
     },
     "execution_count": 45,
     "metadata": {},
     "output_type": "execute_result"
    }
   ],
   "source": [
    "%%time\n",
    "ImageSearchModel.fit_generator(data_gen, steps_per_epoch=full_data_df.shape[0] // 32, epochs=10)"
   ]
  },
  {
   "cell_type": "code",
   "execution_count": 102,
   "metadata": {
    "scrolled": true
   },
   "outputs": [
    {
     "name": "stdout",
     "output_type": "stream",
     "text": [
      "Epoch 1/10\n",
      "311/311 [==============================] - 313s 1s/step - loss: 0.2438\n",
      "Epoch 2/10\n",
      "311/311 [==============================] - 311s 999ms/step - loss: 0.2414\n",
      "Epoch 3/10\n",
      "311/311 [==============================] - 311s 1s/step - loss: 0.2381\n",
      "Epoch 4/10\n",
      "311/311 [==============================] - 312s 1s/step - loss: 0.2397\n",
      "Epoch 5/10\n",
      "311/311 [==============================] - 311s 1s/step - loss: 0.2345\n",
      "Epoch 6/10\n",
      "311/311 [==============================] - 312s 1s/step - loss: 0.2295\n",
      "Epoch 7/10\n",
      "311/311 [==============================] - 312s 1s/step - loss: 0.2305\n",
      "Epoch 8/10\n",
      "311/311 [==============================] - 312s 1s/step - loss: 0.2265\n",
      "Epoch 9/10\n",
      "311/311 [==============================] - 312s 1s/step - loss: 0.2237\n",
      "Epoch 10/10\n",
      "311/311 [==============================] - 312s 1s/step - loss: 0.2251\n",
      "CPU times: user 47min 10s, sys: 11min 32s, total: 58min 43s\n",
      "Wall time: 51min 59s\n"
     ]
    },
    {
     "data": {
      "text/plain": [
       "<keras.callbacks.History at 0x7f265c0b0e50>"
      ]
     },
     "execution_count": 102,
     "metadata": {},
     "output_type": "execute_result"
    }
   ],
   "source": [
    "%%time\n",
    "ImageSearchModel.fit_generator(data_gen, steps_per_epoch=full_data_df.shape[0] // 32, epochs=10)"
   ]
  },
  {
   "cell_type": "code",
   "execution_count": 103,
   "metadata": {},
   "outputs": [],
   "source": [
    "ImageSearchModel.save('ImageSearchModel-30epochs.hd5')"
   ]
  },
  {
   "cell_type": "code",
   "execution_count": 104,
   "metadata": {
    "scrolled": true
   },
   "outputs": [
    {
     "name": "stdout",
     "output_type": "stream",
     "text": [
      "Epoch 1/50\n",
      "311/311 [==============================] - 317s 1s/step - loss: 0.2235\n",
      "Epoch 2/50\n",
      "311/311 [==============================] - 318s 1s/step - loss: 0.2185\n",
      "Epoch 3/50\n",
      "311/311 [==============================] - 317s 1s/step - loss: 0.2156\n",
      "Epoch 4/50\n",
      "311/311 [==============================] - 317s 1s/step - loss: 0.2116\n",
      "Epoch 5/50\n",
      "311/311 [==============================] - 318s 1s/step - loss: 0.2127\n",
      "Epoch 6/50\n",
      "311/311 [==============================] - 318s 1s/step - loss: 0.2161\n",
      "Epoch 7/50\n",
      "311/311 [==============================] - 317s 1s/step - loss: 0.2063\n",
      "Epoch 8/50\n",
      "311/311 [==============================] - 317s 1s/step - loss: 0.2121\n",
      "Epoch 9/50\n",
      "311/311 [==============================] - 318s 1s/step - loss: 0.2042\n",
      "Epoch 10/50\n",
      "311/311 [==============================] - 318s 1s/step - loss: 0.2032\n",
      "Epoch 11/50\n",
      "311/311 [==============================] - 318s 1s/step - loss: 0.2083\n",
      "Epoch 12/50\n",
      "311/311 [==============================] - 318s 1s/step - loss: 0.2008\n",
      "Epoch 13/50\n",
      "311/311 [==============================] - 318s 1s/step - loss: 0.2048\n",
      "Epoch 14/50\n",
      "311/311 [==============================] - 318s 1s/step - loss: 0.2026\n",
      "Epoch 15/50\n",
      "311/311 [==============================] - 318s 1s/step - loss: 0.2001\n",
      "Epoch 16/50\n",
      "311/311 [==============================] - 317s 1s/step - loss: 0.1983\n",
      "Epoch 17/50\n",
      "311/311 [==============================] - 318s 1s/step - loss: 0.2000\n",
      "Epoch 18/50\n",
      "311/311 [==============================] - 318s 1s/step - loss: 0.1977\n",
      "Epoch 19/50\n",
      "311/311 [==============================] - 317s 1s/step - loss: 0.1956\n",
      "Epoch 20/50\n",
      "311/311 [==============================] - 318s 1s/step - loss: 0.1984\n",
      "Epoch 21/50\n",
      "311/311 [==============================] - 318s 1s/step - loss: 0.1939\n",
      "Epoch 22/50\n",
      "311/311 [==============================] - 317s 1s/step - loss: 0.1940\n",
      "Epoch 23/50\n",
      "311/311 [==============================] - 318s 1s/step - loss: 0.1921\n",
      "Epoch 24/50\n",
      "311/311 [==============================] - 318s 1s/step - loss: 0.1936\n",
      "Epoch 25/50\n",
      "311/311 [==============================] - 318s 1s/step - loss: 0.1851\n",
      "Epoch 26/50\n",
      "311/311 [==============================] - 317s 1s/step - loss: 0.1896\n",
      "Epoch 27/50\n",
      "311/311 [==============================] - 318s 1s/step - loss: 0.1864\n",
      "Epoch 28/50\n",
      "311/311 [==============================] - 318s 1s/step - loss: 0.1919\n",
      "Epoch 29/50\n",
      "311/311 [==============================] - 318s 1s/step - loss: 0.1869\n",
      "Epoch 30/50\n",
      "311/311 [==============================] - 318s 1s/step - loss: 0.1859\n",
      "Epoch 31/50\n",
      "311/311 [==============================] - 318s 1s/step - loss: 0.1883\n",
      "Epoch 32/50\n",
      "311/311 [==============================] - 318s 1s/step - loss: 0.1874\n",
      "Epoch 33/50\n",
      "311/311 [==============================] - 317s 1s/step - loss: 0.1874\n",
      "Epoch 34/50\n",
      "311/311 [==============================] - 318s 1s/step - loss: 0.1892\n",
      "Epoch 35/50\n",
      "311/311 [==============================] - 318s 1s/step - loss: 0.1846\n",
      "Epoch 36/50\n",
      "311/311 [==============================] - 318s 1s/step - loss: 0.1826\n",
      "Epoch 37/50\n",
      "311/311 [==============================] - 318s 1s/step - loss: 0.1849\n",
      "Epoch 38/50\n",
      "311/311 [==============================] - 318s 1s/step - loss: 0.1833\n",
      "Epoch 39/50\n",
      "311/311 [==============================] - 318s 1s/step - loss: 0.1843\n",
      "Epoch 40/50\n",
      "311/311 [==============================] - 318s 1s/step - loss: 0.1819\n",
      "Epoch 41/50\n",
      "311/311 [==============================] - 318s 1s/step - loss: 0.1820\n",
      "Epoch 42/50\n",
      "311/311 [==============================] - 318s 1s/step - loss: 0.1840\n",
      "Epoch 43/50\n",
      "311/311 [==============================] - 318s 1s/step - loss: 0.1812\n",
      "Epoch 44/50\n",
      "311/311 [==============================] - 318s 1s/step - loss: 0.1807\n",
      "Epoch 45/50\n",
      "311/311 [==============================] - 318s 1s/step - loss: 0.1811\n",
      "Epoch 46/50\n",
      "311/311 [==============================] - 318s 1s/step - loss: 0.1790\n",
      "Epoch 47/50\n",
      "311/311 [==============================] - 318s 1s/step - loss: 0.1784\n",
      "Epoch 48/50\n",
      "311/311 [==============================] - 318s 1s/step - loss: 0.1800\n",
      "Epoch 49/50\n",
      "311/311 [==============================] - 318s 1s/step - loss: 0.1787\n",
      "Epoch 50/50\n",
      "311/311 [==============================] - 318s 1s/step - loss: 0.1788\n",
      "CPU times: user 3h 57min 4s, sys: 1h 1min 19s, total: 4h 58min 24s\n",
      "Wall time: 4h 24min 42s\n"
     ]
    },
    {
     "data": {
      "text/plain": [
       "<keras.callbacks.History at 0x7f2674022d50>"
      ]
     },
     "execution_count": 104,
     "metadata": {},
     "output_type": "execute_result"
    }
   ],
   "source": [
    "%%time\n",
    "ImageSearchModel.fit_generator(data_gen, steps_per_epoch=full_data_df.shape[0] // 32, epochs=50)"
   ]
  },
  {
   "cell_type": "code",
   "execution_count": 105,
   "metadata": {},
   "outputs": [],
   "source": [
    "ImageSearchModel.save('ImageSearchModel-80epochs.hd5')"
   ]
  },
  {
   "cell_type": "code",
   "execution_count": null,
   "metadata": {},
   "outputs": [],
   "source": []
  },
  {
   "cell_type": "code",
   "execution_count": null,
   "metadata": {},
   "outputs": [],
   "source": []
  },
  {
   "cell_type": "code",
   "execution_count": 106,
   "metadata": {},
   "outputs": [
    {
     "name": "stdout",
     "output_type": "stream",
     "text": [
      "CPU times: user 1.98 s, sys: 5.65 s, total: 7.63 s\n",
      "Wall time: 8.46 s\n"
     ]
    }
   ],
   "source": [
    "%%time\n",
    "predict_image_datagen = ImageDataGenerator(\n",
    "    rescale=1./255,\n",
    ")\n",
    "\n",
    "image_data = sample_data['image'].map(load_image)\n",
    "image_data = np.stack(image_data)\n",
    "\n",
    "# Exploit image_datagen for dynamic perturbation of the data\n",
    "image_data = predict_image_datagen.flow(\n",
    "    image_data,\n",
    "    batch_size=sample_data.shape[0], shuffle=False\n",
    ").next()"
   ]
  },
  {
   "cell_type": "code",
   "execution_count": 107,
   "metadata": {},
   "outputs": [
    {
     "name": "stdout",
     "output_type": "stream",
     "text": [
      "CPU times: user 41.8 s, sys: 14.9 s, total: 56.7 s\n",
      "Wall time: 55 s\n"
     ]
    }
   ],
   "source": [
    "%%time\n",
    "image_embeddings = ImageModel.predict(conv_base.predict(image_data))"
   ]
  },
  {
   "cell_type": "code",
   "execution_count": 108,
   "metadata": {},
   "outputs": [
    {
     "data": {
      "text/plain": [
       "(9957, 100)"
      ]
     },
     "execution_count": 108,
     "metadata": {},
     "output_type": "execute_result"
    }
   ],
   "source": [
    "image_embeddings.shape"
   ]
  },
  {
   "cell_type": "code",
   "execution_count": 109,
   "metadata": {},
   "outputs": [],
   "source": [
    "from sklearn.metrics.pairwise import cosine_similarity"
   ]
  },
  {
   "cell_type": "code",
   "execution_count": 237,
   "metadata": {},
   "outputs": [],
   "source": [
    "query_vector = TextModel.predict(\n",
    "    pad_sequences(\n",
    "        tokenizer.texts_to_sequences(\n",
    "            [' '.join(process_raw_text('lamborghini lamborghini'))]\n",
    "        ), maxlen=MAXLEN, padding='post', truncating='post'\n",
    "    )\n",
    ")"
   ]
  },
  {
   "cell_type": "code",
   "execution_count": 238,
   "metadata": {},
   "outputs": [
    {
     "data": {
      "text/plain": [
       "array([[958,   0,   0,   0,   0,   0,   0,   0,   0,   0,   0,   0,   0,\n",
       "          0,   0,   0,   0,   0,   0,   0,   0,   0,   0,   0,   0,   0,\n",
       "          0,   0,   0,   0]], dtype=int32)"
      ]
     },
     "execution_count": 238,
     "metadata": {},
     "output_type": "execute_result"
    }
   ],
   "source": [
    "pad_sequences(\n",
    "    tokenizer.texts_to_sequences(\n",
    "        [' '.join(process_raw_text('lamborghini'))]\n",
    "    ), maxlen=MAXLEN, padding='post', truncating='post'\n",
    ")"
   ]
  },
  {
   "cell_type": "code",
   "execution_count": 239,
   "metadata": {},
   "outputs": [
    {
     "name": "stdout",
     "output_type": "stream",
     "text": [
      "CPU times: user 12.6 ms, sys: 37.2 ms, total: 49.8 ms\n",
      "Wall time: 9.1 ms\n"
     ]
    }
   ],
   "source": [
    "%%time\n",
    "res = cosine_similarity(image_embeddings, query_vector)"
   ]
  },
  {
   "cell_type": "code",
   "execution_count": 240,
   "metadata": {},
   "outputs": [
    {
     "name": "stdout",
     "output_type": "stream",
     "text": [
      "[0.904109  0.9041075 0.9040807 0.8946484 0.8944086 0.8943785 0.894312\n",
      " 0.8841709 0.8841709 0.884093 ]\n",
      "[3960 3745 4071 3767 3647 4099 3990 3804 3943 3904]\n"
     ]
    }
   ],
   "source": [
    "top_ix = res[:, 0].argsort()[::-1][:10]\n",
    "print(res[:, 0][top_ix])\n",
    "print(top_ix)"
   ]
  },
  {
   "cell_type": "code",
   "execution_count": 241,
   "metadata": {
    "scrolled": true
   },
   "outputs": [
    {
     "data": {
      "text/html": [
       "<div>\n",
       "<style>\n",
       "    .dataframe thead tr:only-child th {\n",
       "        text-align: right;\n",
       "    }\n",
       "\n",
       "    .dataframe thead th {\n",
       "        text-align: left;\n",
       "    }\n",
       "\n",
       "    .dataframe tbody tr th {\n",
       "        vertical-align: top;\n",
       "    }\n",
       "</style>\n",
       "<table border=\"1\" class=\"dataframe\">\n",
       "  <thead>\n",
       "    <tr style=\"text-align: right;\">\n",
       "      <th></th>\n",
       "      <th>image</th>\n",
       "      <th>tokens</th>\n",
       "      <th>sequence</th>\n",
       "    </tr>\n",
       "  </thead>\n",
       "  <tbody>\n",
       "    <tr>\n",
       "      <th>1623</th>\n",
       "      <td>../../data/img/car/kGAyr0qr7nEHFM:.jpeg</td>\n",
       "      <td>[getaround, peer, to, peer, car, sharing, and,...</td>\n",
       "      <td>[11310, 3846, 6, 3846, 29, 1400, 3, 951, 29, 4...</td>\n",
       "    </tr>\n",
       "    <tr>\n",
       "      <th>3647</th>\n",
       "      <td>../../data/img/car/aQ_09_u1-O-foM:.jpeg</td>\n",
       "      <td>[www.cstatic, images.com, stock, 379x253, 63, ...</td>\n",
       "      <td>[3141, 3142, 89, 6598, 3820, 11162, 0, 0, 0, 0...</td>\n",
       "    </tr>\n",
       "    <tr>\n",
       "      <th>17</th>\n",
       "      <td>../../data/img/car/viigArJelrk7zM:.jpeg</td>\n",
       "      <td>[cars, insider, cars, insider, updated, their,...</td>\n",
       "      <td>[55, 551, 55, 551, 955, 131, 406, 63, 13, 127,...</td>\n",
       "    </tr>\n",
       "    <tr>\n",
       "      <th>7339</th>\n",
       "      <td>../../data/img/car/qE_PqrCu8lMkGM:.jpeg</td>\n",
       "      <td>[get, the, best, price, save, on, your, next, ...</td>\n",
       "      <td>[125, 1, 38, 151, 577, 20, 33, 417, 29, 5917, ...</td>\n",
       "    </tr>\n",
       "    <tr>\n",
       "      <th>8926</th>\n",
       "      <td>../../data/img/car/yA9yLp2u0qj0JM:.jpeg</td>\n",
       "      <td>[mclaren, senna, reviews, mclaren, senna, pric...</td>\n",
       "      <td>[1870, 3809, 166, 1870, 3809, 151, 87, 3, 395,...</td>\n",
       "    </tr>\n",
       "    <tr>\n",
       "      <th>4630</th>\n",
       "      <td>../../data/img/car/DT3-l83AqkKVKM:.jpeg</td>\n",
       "      <td>[2016, chevrolet, camaro, overview, cars.com, ]</td>\n",
       "      <td>[299, 2080, 2086, 991, 2362, 0, 0, 0, 0, 0, 0,...</td>\n",
       "    </tr>\n",
       "    <tr>\n",
       "      <th>7424</th>\n",
       "      <td>../../data/img/car/j4O_PexChflYBM:.jpeg</td>\n",
       "      <td>[numerous, benefits, of, purchasing, used, car, ]</td>\n",
       "      <td>[6686, 1605, 2, 11341, 190, 29, 0, 0, 0, 0, 0,...</td>\n",
       "    </tr>\n",
       "    <tr>\n",
       "      <th>8102</th>\n",
       "      <td>../../data/img/car/Yirk0T1bWpDgMM:.jpeg</td>\n",
       "      <td>[car, malaysia, latest, news, reviews, on, aut...</td>\n",
       "      <td>[29, 798, 317, 91, 166, 20, 6627, 6628, 6629, ...</td>\n",
       "    </tr>\n",
       "    <tr>\n",
       "      <th>3588</th>\n",
       "      <td>../../data/img/car/Yirk0T1bWpDgMM:.jpeg</td>\n",
       "      <td>[car, malaysia, latest, news, reviews, on, aut...</td>\n",
       "      <td>[29, 798, 317, 91, 166, 20, 6627, 6628, 6629, ...</td>\n",
       "    </tr>\n",
       "    <tr>\n",
       "      <th>7671</th>\n",
       "      <td>../../data/img/car/vtHGOLJS44ooMM:.jpeg</td>\n",
       "      <td>[uber, self, driving, car, kills, arizona, ped...</td>\n",
       "      <td>[4608, 613, 715, 29, 2926, 2918, 11264, 11265,...</td>\n",
       "    </tr>\n",
       "  </tbody>\n",
       "</table>\n",
       "</div>"
      ],
      "text/plain": [
       "                                        image  \\\n",
       "1623  ../../data/img/car/kGAyr0qr7nEHFM:.jpeg   \n",
       "3647  ../../data/img/car/aQ_09_u1-O-foM:.jpeg   \n",
       "17    ../../data/img/car/viigArJelrk7zM:.jpeg   \n",
       "7339  ../../data/img/car/qE_PqrCu8lMkGM:.jpeg   \n",
       "8926  ../../data/img/car/yA9yLp2u0qj0JM:.jpeg   \n",
       "4630  ../../data/img/car/DT3-l83AqkKVKM:.jpeg   \n",
       "7424  ../../data/img/car/j4O_PexChflYBM:.jpeg   \n",
       "8102  ../../data/img/car/Yirk0T1bWpDgMM:.jpeg   \n",
       "3588  ../../data/img/car/Yirk0T1bWpDgMM:.jpeg   \n",
       "7671  ../../data/img/car/vtHGOLJS44ooMM:.jpeg   \n",
       "\n",
       "                                                 tokens  \\\n",
       "1623  [getaround, peer, to, peer, car, sharing, and,...   \n",
       "3647  [www.cstatic, images.com, stock, 379x253, 63, ...   \n",
       "17    [cars, insider, cars, insider, updated, their,...   \n",
       "7339  [get, the, best, price, save, on, your, next, ...   \n",
       "8926  [mclaren, senna, reviews, mclaren, senna, pric...   \n",
       "4630    [2016, chevrolet, camaro, overview, cars.com, ]   \n",
       "7424  [numerous, benefits, of, purchasing, used, car, ]   \n",
       "8102  [car, malaysia, latest, news, reviews, on, aut...   \n",
       "3588  [car, malaysia, latest, news, reviews, on, aut...   \n",
       "7671  [uber, self, driving, car, kills, arizona, ped...   \n",
       "\n",
       "                                               sequence  \n",
       "1623  [11310, 3846, 6, 3846, 29, 1400, 3, 951, 29, 4...  \n",
       "3647  [3141, 3142, 89, 6598, 3820, 11162, 0, 0, 0, 0...  \n",
       "17    [55, 551, 55, 551, 955, 131, 406, 63, 13, 127,...  \n",
       "7339  [125, 1, 38, 151, 577, 20, 33, 417, 29, 5917, ...  \n",
       "8926  [1870, 3809, 166, 1870, 3809, 151, 87, 3, 395,...  \n",
       "4630  [299, 2080, 2086, 991, 2362, 0, 0, 0, 0, 0, 0,...  \n",
       "7424  [6686, 1605, 2, 11341, 190, 29, 0, 0, 0, 0, 0,...  \n",
       "8102  [29, 798, 317, 91, 166, 20, 6627, 6628, 6629, ...  \n",
       "3588  [29, 798, 317, 91, 166, 20, 6627, 6628, 6629, ...  \n",
       "7671  [4608, 613, 715, 29, 2926, 2918, 11264, 11265,...  "
      ]
     },
     "execution_count": 241,
     "metadata": {},
     "output_type": "execute_result"
    }
   ],
   "source": [
    "sample_data.iloc[top_ix]"
   ]
  },
  {
   "cell_type": "code",
   "execution_count": 242,
   "metadata": {},
   "outputs": [
    {
     "data": {
      "image/png": "[encoded data removed]",
      "text/plain": [
       "<PIL.Image.Image image mode=RGB size=256x256 at 0x7F265C0D4AD0>"
      ]
     },
     "execution_count": 242,
     "metadata": {},
     "output_type": "execute_result"
    }
   ],
   "source": [
    "Image.fromarray(\n",
    "    load_image(\n",
    "        sample_data.iloc[3960]['image']\n",
    "#         '../../data/img/physics/jT6AxO5im1R5zM:.jpeg'\n",
    "    ).astype(np.uint8)\n",
    ")"
   ]
  },
  {
   "cell_type": "code",
   "execution_count": null,
   "metadata": {},
   "outputs": [],
   "source": []
  },
  {
   "cell_type": "code",
   "execution_count": null,
   "metadata": {},
   "outputs": [],
   "source": []
  },
  {
   "cell_type": "code",
   "execution_count": 60,
   "metadata": {},
   "outputs": [
    {
     "data": {
      "text/plain": [
       "image                 ../../data/img/sea/92xZrnaPVNyNkM:.jpeg\n",
       "tokens      [sea, turtles, of, st, ., george, island, reso...\n",
       "sequence    [21, 1665, 2, 1502, 13, 3668, 1117, 709, 3227,...\n",
       "Name: 9828, dtype: object"
      ]
     },
     "execution_count": 60,
     "metadata": {},
     "output_type": "execute_result"
    }
   ],
   "source": [
    "sample_data.loc[6159]"
   ]
  },
  {
   "cell_type": "code",
   "execution_count": null,
   "metadata": {},
   "outputs": [],
   "source": []
  },
  {
   "cell_type": "code",
   "execution_count": null,
   "metadata": {},
   "outputs": [],
   "source": []
  },
  {
   "cell_type": "code",
   "execution_count": 42,
   "metadata": {},
   "outputs": [],
   "source": [
    "record = sample_data.loc[3]"
   ]
  },
  {
   "cell_type": "code",
   "execution_count": 43,
   "metadata": {},
   "outputs": [
    {
     "name": "stdout",
     "output_type": "stream",
     "text": [
      "caring for cats in cold weather - grey and white cat close up\n",
      "caring for cats in cold weather - argos pet insurance\n"
     ]
    }
   ],
   "source": [
    "print record['caption'].lower()\n",
    "print record['title'].lower()"
   ]
  },
  {
   "cell_type": "code",
   "execution_count": null,
   "metadata": {},
   "outputs": [],
   "source": [
    "str.index"
   ]
  }
 ],
 "metadata": {
  "kernelspec": {
   "display_name": "Python 2",
   "language": "python",
   "name": "python2"
  },
  "language_info": {
   "codemirror_mode": {
    "name": "ipython",
    "version": 2
   },
   "file_extension": ".py",
   "mimetype": "text/x-python",
   "name": "python",
   "nbconvert_exporter": "python",
   "pygments_lexer": "ipython2",
   "version": "2.7.12"
  }
 },
 "nbformat": 4,
 "nbformat_minor": 2
}
