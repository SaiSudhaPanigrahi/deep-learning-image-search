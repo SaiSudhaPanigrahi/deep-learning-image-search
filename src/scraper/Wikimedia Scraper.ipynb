{
 "cells": [
  {
   "cell_type": "code",
   "execution_count": 1,
   "metadata": {},
   "outputs": [],
   "source": [
    "%matplotlib inline"
   ]
  },
  {
   "cell_type": "code",
   "execution_count": 2,
   "metadata": {},
   "outputs": [],
   "source": [
    "from bs4 import BeautifulSoup\n",
    "import requests\n",
    "import pandas as pd\n",
    "from PIL import Image\n",
    "import json\n",
    "from collections import Counter"
   ]
  },
  {
   "cell_type": "code",
   "execution_count": 3,
   "metadata": {},
   "outputs": [],
   "source": [
    "wikimedia_url = 'https://commons.wikimedia.org/wiki/Category:Beach_vegetation'\n",
    "wikimedia_api_url = 'https://commons.wikimedia.org/w/api.php'\n",
    "\n",
    "res = requests.get(wikimedia_url)\n",
    "b = BeautifulSoup(res.content, 'html.parser')"
   ]
  },
  {
   "cell_type": "code",
   "execution_count": 4,
   "metadata": {},
   "outputs": [
    {
     "name": "stdout",
     "output_type": "stream",
     "text": [
      "17\n",
      "File:Sulawesi_Panua_dune_trsr_DSCN0853_v1.JPG\n",
      "https://upload.wikimedia.org/wikipedia/commons/thumb/a/a8/Sulawesi_Panua_dune_trsr_DSCN0853_v1.JPG/180px-Sulawesi_Panua_dune_trsr_DSCN0853_v1.JPG\n"
     ]
    }
   ],
   "source": [
    "thumbs = b.find_all('div', {'class': 'thumb'})\n",
    "print(len(thumbs))\n",
    "print(thumbs[12].find_all('a', {'class': 'image'})[0].attrs['href'].split('/')[-1])\n",
    "print(thumbs[12].find_all('img')[0].attrs['srcset'].split()[0])"
   ]
  },
  {
   "cell_type": "code",
   "execution_count": 5,
   "metadata": {},
   "outputs": [],
   "source": [
    "iiprop = [\n",
    "#     'timestamp',\n",
    "    'url',\n",
    "#     'size',\n",
    "#     'mime',\n",
    "#     'mediatype',\n",
    "#     'thumb',\n",
    "    'extmetadata'\n",
    "]\n",
    "\n",
    "iiextmetadatafilter = [\n",
    "#     'DateTime',\n",
    "#     'DateTimeOriginal',\n",
    "    'ObjectName',\n",
    "    'ImageDescription',\n",
    "#     'License',\n",
    "#     'LicenseShortName',\n",
    "#     'UsageTerms',\n",
    "#     'LicenseUrl',\n",
    "#     'Credit',\n",
    "#     'Artist',\n",
    "#     'AuthorCount',\n",
    "#     'GPSLatitude',\n",
    "#     'GPSLongitude',\n",
    "    'Permission',\n",
    "#     'Attribution',\n",
    "#     'AttributionRequired',\n",
    "#     'NonFree',\n",
    "#     'Restrictions',\n",
    "#     'DeletionReason'\n",
    "]\n",
    "\n",
    "titles = [\n",
    "#     'File:Beach_veget_111029-20390_bml.jpg',\n",
    "#     'File:Looking_west_along_Luce_sands_-_geograph.org.uk_-_560895.jpg',\n",
    "#     'File:Dog_weight_pull.jpg',\n",
    "#     'File:ZOO_%C3%9Ast%C3%AD_n_L_-_pavilon_opic_14.jpg'\n",
    "#     'File:ZOO_Ústí_n_L_-_pavilon_opic_14.jpg',\n",
    "#     'File:ZOO Ústí n L - pavilon opic 03.jpg'.replace(' ', '_'),\n",
    "#     'File:Bundesarchiv Bild 183-1982-0623-026, Leipzig, Zoo, Affenhaus.jpg'.replace(' ', '_'),\n",
    "#     'File:Cultural_Properties_and_Touring_for_Building_Numbering_in_South_Korea_(Aquarium)_(Example_2).png',\n",
    "    'File:\" Our Lady of Guadalupe, Xcaret Eco Park \".jpg'\n",
    "]\n",
    "payload = {\n",
    "    'action': 'query',\n",
    "    'format': 'json',\n",
    "    'iiextmetadatafilter': '|'.join(iiextmetadatafilter),\n",
    "    'iiextmetadatalanguage': 'en',\n",
    "    'iiprop': '|'.join(iiprop),\n",
    "    'maxage': '300',\n",
    "    'prop': 'imageinfo',\n",
    "    'smaxage': '300',\n",
    "    'titles': '|'.join(titles),  # 'File:Looking_west_along_Luce_sands_-_geograph.org.uk_-_560895.jpg',\n",
    "    'uselang': 'content'\n",
    "}"
   ]
  },
  {
   "cell_type": "code",
   "execution_count": 6,
   "metadata": {},
   "outputs": [
    {
     "name": "stdout",
     "output_type": "stream",
     "text": [
      "{\"batchcomplete\": \"\", \"query\": {\"pages\": {\"15765499\": {\"imagerepository\": \"local\", \"ns\": 6, \"pageid\": 15765499, \"imageinfo\": [{\"url\": \"https://upload.wikimedia.org/wikipedia/commons/c/c7/%22_Our_Lady_of_Guadalupe%2C_Xcaret_Eco_Park_%22.jpg\", \"extmetadata\": {\"ImageDescription\": {\"source\": \"commons-desc-page\", \"value\": \"Our Lady of Guadalupe, Xcaret Eco Park, Solidaridad, Quintana Roo, Mexico\"}, \"ObjectName\": {\"source\": \"mediawiki-metadata\", \"hidden\": \"\", \"value\": \"\\\" Our Lady of Guadalupe, Xcaret Eco Park \\\"\"}}, \"descriptionshorturl\": \"https://commons.wikimedia.org/w/index.php?curid=15765499\", \"descriptionurl\": \"https://commons.wikimedia.org/wiki/File:%22_Our_Lady_of_Guadalupe,_Xcaret_Eco_Park_%22.jpg\"}], \"title\": \"File:\\\" Our Lady of Guadalupe, Xcaret Eco Park \\\".jpg\"}}}}\n"
     ]
    }
   ],
   "source": [
    "res = requests.get(wikimedia_api_url, params=payload)\n",
    "data = res.json()\n",
    "print json.dumps(data)"
   ]
  },
  {
   "cell_type": "code",
   "execution_count": 7,
   "metadata": {},
   "outputs": [],
   "source": [
    "# 'https://commons.wikimedia.org/w/index.php?search=clouds&title=Special%3ASearch&profile=advanced&fulltext=1&ns6=1&ns14=1'\n",
    "# 'https://commons.wikimedia.org/w/index.php?search=clouds&title=Special%3ASearch&profile=advanced&fulltext=1&ns6=1&ns14=1'\n",
    "# 'https://commons.wikimedia.org/w/index.php?title=Special:Search&limit=50&offset=50&ns6=1&ns14=1&search=clouds'\n",
    "\n",
    "# '''title:Special:Search\n",
    "# limit:50\n",
    "# offset:50\n",
    "# ns6:1\n",
    "# ns14:1\n",
    "# search:clouds'''"
   ]
  },
  {
   "cell_type": "code",
   "execution_count": 29,
   "metadata": {},
   "outputs": [],
   "source": [
    "image_files = pd.Series()\n",
    "errors_cat_ref = pd.Series()\n",
    "cat_refs = Counter()\n",
    "\n",
    "\n",
    "def scrape_category(cat_ref, download_image_size=256):\n",
    "    '''\n",
    "    cat_ref should be in the form of: u'/wiki/Category:Flora_of_Kozhikode_Beach'\n",
    "    '''\n",
    "    if len(image_files) % 1000 == 0:\n",
    "        image_files.to_hdf('image_metadata_files.hdf', 'image_files')\n",
    "        errors_cat_ref.to_hdf('image_metadata_files.hdf', 'errors_cat_ref')\n",
    "        pd.Series(cat_refs).to_hdf('image_metadata_files.hdf', 'cat_refs')\n",
    "\n",
    "    try:\n",
    "        cat_refs.update([cat_ref])\n",
    "        \n",
    "        wikimedia_url = 'https://commons.wikimedia.org' + cat_ref\n",
    "\n",
    "        retry_count = 0\n",
    "\n",
    "        while retry_count < 10:\n",
    "            try:\n",
    "                response = requests.get(wikimedia_url)\n",
    "                break\n",
    "            except requests.exceptions.ConnectionError:\n",
    "                retry_count += 1\n",
    "                \n",
    "        if retry_count >= 10:\n",
    "            raise(ValueError('retries exceeded: {}'.format(cat_ref)))\n",
    "\n",
    "        b = BeautifulSoup(response.content, 'html.parser')\n",
    "\n",
    "        cat_trees = b.find_all('div', {'class': 'CategoryTreeSection'})\n",
    "\n",
    "        for cat in cat_trees:\n",
    "            cat_ref = cat.find('a').attrs['href']\n",
    "            scrape_category(cat_ref)\n",
    "\n",
    "        thumbs = b.find_all('div', {'class': 'thumb'})\n",
    "\n",
    "        for thumb in thumbs:\n",
    "            try:\n",
    "                thumb_link = thumb.find('img').attrs['srcset'].split()[0]\n",
    "            except KeyError:\n",
    "                # (KeyError, \"'srcset'\") -> thumb is likely a video thumbnail\n",
    "                continue\n",
    "            except Exception as e:\n",
    "                raise(e)\n",
    "\n",
    "            # Example thumb link: https://upload.wikimedia.org/wikipedia/commons/thumb/a/a8/Sulawesi_Panua_dune_trsr_DSCN0853_v1.JPG/180px-Sulawesi_Panua_dune_trsr_DSCN0853_v1.JPG\n",
    "            thumb_link = thumb_link.replace('180px', '{}px'.format(download_image_size))\n",
    "            thumb_name = thumb.find('img').attrs['alt']\n",
    "\n",
    "            image_files[thumb_name] = thumb_link\n",
    "            \n",
    "    except Exception as e:\n",
    "        error_key = '{}:{}'.format(type(e), e.__str__())\n",
    "        if error_key in errors_cat_ref:\n",
    "            errors_cat_ref[error_key].add(cat_ref)\n",
    "        else:\n",
    "            errors_cat_ref[error_key] = set([cat_ref])"
   ]
  },
  {
   "cell_type": "code",
   "execution_count": null,
   "metadata": {},
   "outputs": [
    {
     "name": "stderr",
     "output_type": "stream",
     "text": [
      "/home/avsolatorio/ml-ai/local/lib/python2.7/site-packages/pandas/io/pytables.py:280: PerformanceWarning: \n",
      "your performance may suffer as PyTables will pickle object types that it cannot\n",
      "map directly to c-types [inferred_type->unicode,key->index] [items->None]\n",
      "\n",
      "  f(store)\n",
      "/home/avsolatorio/ml-ai/local/lib/python2.7/site-packages/pandas/core/generic.py:1299: PerformanceWarning: \n",
      "your performance may suffer as PyTables will pickle object types that it cannot\n",
      "map directly to c-types [inferred_type->unicode,key->values] [items->None]\n",
      "\n",
      "  return pytables.to_hdf(path_or_buf, key, self, **kwargs)\n",
      "/home/avsolatorio/ml-ai/local/lib/python2.7/site-packages/pandas/core/generic.py:1299: PerformanceWarning: \n",
      "your performance may suffer as PyTables will pickle object types that it cannot\n",
      "map directly to c-types [inferred_type->mixed,key->values] [items->None]\n",
      "\n",
      "  return pytables.to_hdf(path_or_buf, key, self, **kwargs)\n"
     ]
    }
   ],
   "source": [
    "%%time\n",
    "scrape_category('/wiki/Category:Animals')"
   ]
  },
  {
   "cell_type": "code",
   "execution_count": 95,
   "metadata": {},
   "outputs": [
    {
     "data": {
      "text/plain": [
       "20666"
      ]
     },
     "execution_count": 95,
     "metadata": {},
     "output_type": "execute_result"
    }
   ],
   "source": [
    "len(image_files)"
   ]
  },
  {
   "cell_type": "code",
   "execution_count": null,
   "metadata": {},
   "outputs": [],
   "source": []
  }
 ],
 "metadata": {
  "kernelspec": {
   "display_name": "Python 2",
   "language": "python",
   "name": "python2"
  },
  "language_info": {
   "codemirror_mode": {
    "name": "ipython",
    "version": 2
   },
   "file_extension": ".py",
   "mimetype": "text/x-python",
   "name": "python",
   "nbconvert_exporter": "python",
   "pygments_lexer": "ipython2",
   "version": "2.7.12"
  }
 },
 "nbformat": 4,
 "nbformat_minor": 2
}
